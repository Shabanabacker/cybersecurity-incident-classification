{
 "cells": [
  {
   "cell_type": "code",
   "execution_count": 2,
   "id": "47521cf7-3e44-42a9-b8db-82616dbcd714",
   "metadata": {},
   "outputs": [
    {
     "data": {
      "text/html": [
       "<div>\n",
       "<style scoped>\n",
       "    .dataframe tbody tr th:only-of-type {\n",
       "        vertical-align: middle;\n",
       "    }\n",
       "\n",
       "    .dataframe tbody tr th {\n",
       "        vertical-align: top;\n",
       "    }\n",
       "\n",
       "    .dataframe thead th {\n",
       "        text-align: right;\n",
       "    }\n",
       "</style>\n",
       "<table border=\"1\" class=\"dataframe\">\n",
       "  <thead>\n",
       "    <tr style=\"text-align: right;\">\n",
       "      <th></th>\n",
       "      <th>Id</th>\n",
       "      <th>OrgId</th>\n",
       "      <th>IncidentId</th>\n",
       "      <th>AlertId</th>\n",
       "      <th>Timestamp</th>\n",
       "      <th>DetectorId</th>\n",
       "      <th>AlertTitle</th>\n",
       "      <th>Category</th>\n",
       "      <th>MitreTechniques</th>\n",
       "      <th>IncidentGrade</th>\n",
       "      <th>...</th>\n",
       "      <th>ResourceType</th>\n",
       "      <th>Roles</th>\n",
       "      <th>OSFamily</th>\n",
       "      <th>OSVersion</th>\n",
       "      <th>AntispamDirection</th>\n",
       "      <th>SuspicionLevel</th>\n",
       "      <th>LastVerdict</th>\n",
       "      <th>CountryCode</th>\n",
       "      <th>State</th>\n",
       "      <th>City</th>\n",
       "    </tr>\n",
       "  </thead>\n",
       "  <tbody>\n",
       "    <tr>\n",
       "      <th>0</th>\n",
       "      <td>180388628218</td>\n",
       "      <td>0</td>\n",
       "      <td>612</td>\n",
       "      <td>123247</td>\n",
       "      <td>2024-06-04T06:05:15.000Z</td>\n",
       "      <td>7</td>\n",
       "      <td>6</td>\n",
       "      <td>InitialAccess</td>\n",
       "      <td>NaN</td>\n",
       "      <td>TruePositive</td>\n",
       "      <td>...</td>\n",
       "      <td>NaN</td>\n",
       "      <td>NaN</td>\n",
       "      <td>5</td>\n",
       "      <td>66</td>\n",
       "      <td>NaN</td>\n",
       "      <td>NaN</td>\n",
       "      <td>NaN</td>\n",
       "      <td>31</td>\n",
       "      <td>6</td>\n",
       "      <td>3</td>\n",
       "    </tr>\n",
       "    <tr>\n",
       "      <th>1</th>\n",
       "      <td>455266534868</td>\n",
       "      <td>88</td>\n",
       "      <td>326</td>\n",
       "      <td>210035</td>\n",
       "      <td>2024-06-14T03:01:25.000Z</td>\n",
       "      <td>58</td>\n",
       "      <td>43</td>\n",
       "      <td>Exfiltration</td>\n",
       "      <td>NaN</td>\n",
       "      <td>FalsePositive</td>\n",
       "      <td>...</td>\n",
       "      <td>NaN</td>\n",
       "      <td>NaN</td>\n",
       "      <td>5</td>\n",
       "      <td>66</td>\n",
       "      <td>NaN</td>\n",
       "      <td>NaN</td>\n",
       "      <td>NaN</td>\n",
       "      <td>242</td>\n",
       "      <td>1445</td>\n",
       "      <td>10630</td>\n",
       "    </tr>\n",
       "    <tr>\n",
       "      <th>2</th>\n",
       "      <td>1056561957389</td>\n",
       "      <td>809</td>\n",
       "      <td>58352</td>\n",
       "      <td>712507</td>\n",
       "      <td>2024-06-13T04:52:55.000Z</td>\n",
       "      <td>423</td>\n",
       "      <td>298</td>\n",
       "      <td>InitialAccess</td>\n",
       "      <td>T1189</td>\n",
       "      <td>FalsePositive</td>\n",
       "      <td>...</td>\n",
       "      <td>NaN</td>\n",
       "      <td>NaN</td>\n",
       "      <td>5</td>\n",
       "      <td>66</td>\n",
       "      <td>NaN</td>\n",
       "      <td>Suspicious</td>\n",
       "      <td>Suspicious</td>\n",
       "      <td>242</td>\n",
       "      <td>1445</td>\n",
       "      <td>10630</td>\n",
       "    </tr>\n",
       "    <tr>\n",
       "      <th>3</th>\n",
       "      <td>1279900258736</td>\n",
       "      <td>92</td>\n",
       "      <td>32992</td>\n",
       "      <td>774301</td>\n",
       "      <td>2024-06-10T16:39:36.000Z</td>\n",
       "      <td>2</td>\n",
       "      <td>2</td>\n",
       "      <td>CommandAndControl</td>\n",
       "      <td>NaN</td>\n",
       "      <td>BenignPositive</td>\n",
       "      <td>...</td>\n",
       "      <td>NaN</td>\n",
       "      <td>NaN</td>\n",
       "      <td>5</td>\n",
       "      <td>66</td>\n",
       "      <td>NaN</td>\n",
       "      <td>Suspicious</td>\n",
       "      <td>Suspicious</td>\n",
       "      <td>242</td>\n",
       "      <td>1445</td>\n",
       "      <td>10630</td>\n",
       "    </tr>\n",
       "    <tr>\n",
       "      <th>4</th>\n",
       "      <td>214748368522</td>\n",
       "      <td>148</td>\n",
       "      <td>4359</td>\n",
       "      <td>188041</td>\n",
       "      <td>2024-06-15T01:08:07.000Z</td>\n",
       "      <td>9</td>\n",
       "      <td>74</td>\n",
       "      <td>Execution</td>\n",
       "      <td>NaN</td>\n",
       "      <td>TruePositive</td>\n",
       "      <td>...</td>\n",
       "      <td>NaN</td>\n",
       "      <td>NaN</td>\n",
       "      <td>5</td>\n",
       "      <td>66</td>\n",
       "      <td>NaN</td>\n",
       "      <td>NaN</td>\n",
       "      <td>NaN</td>\n",
       "      <td>242</td>\n",
       "      <td>1445</td>\n",
       "      <td>10630</td>\n",
       "    </tr>\n",
       "    <tr>\n",
       "      <th>...</th>\n",
       "      <td>...</td>\n",
       "      <td>...</td>\n",
       "      <td>...</td>\n",
       "      <td>...</td>\n",
       "      <td>...</td>\n",
       "      <td>...</td>\n",
       "      <td>...</td>\n",
       "      <td>...</td>\n",
       "      <td>...</td>\n",
       "      <td>...</td>\n",
       "      <td>...</td>\n",
       "      <td>...</td>\n",
       "      <td>...</td>\n",
       "      <td>...</td>\n",
       "      <td>...</td>\n",
       "      <td>...</td>\n",
       "      <td>...</td>\n",
       "      <td>...</td>\n",
       "      <td>...</td>\n",
       "      <td>...</td>\n",
       "      <td>...</td>\n",
       "    </tr>\n",
       "    <tr>\n",
       "      <th>9516832</th>\n",
       "      <td>1056561956622</td>\n",
       "      <td>0</td>\n",
       "      <td>90</td>\n",
       "      <td>496631</td>\n",
       "      <td>2024-06-08T15:26:08.000Z</td>\n",
       "      <td>7</td>\n",
       "      <td>6</td>\n",
       "      <td>InitialAccess</td>\n",
       "      <td>NaN</td>\n",
       "      <td>TruePositive</td>\n",
       "      <td>...</td>\n",
       "      <td>NaN</td>\n",
       "      <td>NaN</td>\n",
       "      <td>5</td>\n",
       "      <td>66</td>\n",
       "      <td>NaN</td>\n",
       "      <td>NaN</td>\n",
       "      <td>NaN</td>\n",
       "      <td>242</td>\n",
       "      <td>1445</td>\n",
       "      <td>10630</td>\n",
       "    </tr>\n",
       "    <tr>\n",
       "      <th>9516833</th>\n",
       "      <td>1228360650033</td>\n",
       "      <td>59</td>\n",
       "      <td>196410</td>\n",
       "      <td>748366</td>\n",
       "      <td>2024-06-06T09:40:08.000Z</td>\n",
       "      <td>2</td>\n",
       "      <td>2</td>\n",
       "      <td>CommandAndControl</td>\n",
       "      <td>NaN</td>\n",
       "      <td>BenignPositive</td>\n",
       "      <td>...</td>\n",
       "      <td>NaN</td>\n",
       "      <td>NaN</td>\n",
       "      <td>5</td>\n",
       "      <td>66</td>\n",
       "      <td>NaN</td>\n",
       "      <td>Suspicious</td>\n",
       "      <td>Suspicious</td>\n",
       "      <td>242</td>\n",
       "      <td>1445</td>\n",
       "      <td>10630</td>\n",
       "    </tr>\n",
       "    <tr>\n",
       "      <th>9516834</th>\n",
       "      <td>867583395122</td>\n",
       "      <td>44</td>\n",
       "      <td>14117</td>\n",
       "      <td>7425</td>\n",
       "      <td>2024-06-11T22:51:03.000Z</td>\n",
       "      <td>78</td>\n",
       "      <td>57</td>\n",
       "      <td>Exfiltration</td>\n",
       "      <td>NaN</td>\n",
       "      <td>BenignPositive</td>\n",
       "      <td>...</td>\n",
       "      <td>NaN</td>\n",
       "      <td>NaN</td>\n",
       "      <td>5</td>\n",
       "      <td>66</td>\n",
       "      <td>NaN</td>\n",
       "      <td>NaN</td>\n",
       "      <td>NaN</td>\n",
       "      <td>242</td>\n",
       "      <td>1445</td>\n",
       "      <td>10630</td>\n",
       "    </tr>\n",
       "    <tr>\n",
       "      <th>9516835</th>\n",
       "      <td>395136991850</td>\n",
       "      <td>43</td>\n",
       "      <td>644</td>\n",
       "      <td>8973</td>\n",
       "      <td>2024-05-20T23:01:01.000Z</td>\n",
       "      <td>52</td>\n",
       "      <td>10</td>\n",
       "      <td>Impact</td>\n",
       "      <td>NaN</td>\n",
       "      <td>BenignPositive</td>\n",
       "      <td>...</td>\n",
       "      <td>NaN</td>\n",
       "      <td>NaN</td>\n",
       "      <td>5</td>\n",
       "      <td>66</td>\n",
       "      <td>NaN</td>\n",
       "      <td>NaN</td>\n",
       "      <td>NaN</td>\n",
       "      <td>242</td>\n",
       "      <td>1445</td>\n",
       "      <td>10630</td>\n",
       "    </tr>\n",
       "    <tr>\n",
       "      <th>9516836</th>\n",
       "      <td>678604833923</td>\n",
       "      <td>16</td>\n",
       "      <td>141721</td>\n",
       "      <td>644106</td>\n",
       "      <td>2024-06-03T23:51:52.000Z</td>\n",
       "      <td>24</td>\n",
       "      <td>348</td>\n",
       "      <td>Exfiltration</td>\n",
       "      <td>NaN</td>\n",
       "      <td>BenignPositive</td>\n",
       "      <td>...</td>\n",
       "      <td>NaN</td>\n",
       "      <td>NaN</td>\n",
       "      <td>5</td>\n",
       "      <td>66</td>\n",
       "      <td>NaN</td>\n",
       "      <td>NaN</td>\n",
       "      <td>NaN</td>\n",
       "      <td>242</td>\n",
       "      <td>1445</td>\n",
       "      <td>10630</td>\n",
       "    </tr>\n",
       "  </tbody>\n",
       "</table>\n",
       "<p>9516837 rows × 45 columns</p>\n",
       "</div>"
      ],
      "text/plain": [
       "                    Id  OrgId  IncidentId  AlertId                 Timestamp  \\\n",
       "0         180388628218      0         612   123247  2024-06-04T06:05:15.000Z   \n",
       "1         455266534868     88         326   210035  2024-06-14T03:01:25.000Z   \n",
       "2        1056561957389    809       58352   712507  2024-06-13T04:52:55.000Z   \n",
       "3        1279900258736     92       32992   774301  2024-06-10T16:39:36.000Z   \n",
       "4         214748368522    148        4359   188041  2024-06-15T01:08:07.000Z   \n",
       "...                ...    ...         ...      ...                       ...   \n",
       "9516832  1056561956622      0          90   496631  2024-06-08T15:26:08.000Z   \n",
       "9516833  1228360650033     59      196410   748366  2024-06-06T09:40:08.000Z   \n",
       "9516834   867583395122     44       14117     7425  2024-06-11T22:51:03.000Z   \n",
       "9516835   395136991850     43         644     8973  2024-05-20T23:01:01.000Z   \n",
       "9516836   678604833923     16      141721   644106  2024-06-03T23:51:52.000Z   \n",
       "\n",
       "         DetectorId  AlertTitle           Category MitreTechniques  \\\n",
       "0                 7           6      InitialAccess             NaN   \n",
       "1                58          43       Exfiltration             NaN   \n",
       "2               423         298      InitialAccess           T1189   \n",
       "3                 2           2  CommandAndControl             NaN   \n",
       "4                 9          74          Execution             NaN   \n",
       "...             ...         ...                ...             ...   \n",
       "9516832           7           6      InitialAccess             NaN   \n",
       "9516833           2           2  CommandAndControl             NaN   \n",
       "9516834          78          57       Exfiltration             NaN   \n",
       "9516835          52          10             Impact             NaN   \n",
       "9516836          24         348       Exfiltration             NaN   \n",
       "\n",
       "          IncidentGrade  ... ResourceType Roles OSFamily OSVersion  \\\n",
       "0          TruePositive  ...          NaN   NaN        5        66   \n",
       "1         FalsePositive  ...          NaN   NaN        5        66   \n",
       "2         FalsePositive  ...          NaN   NaN        5        66   \n",
       "3        BenignPositive  ...          NaN   NaN        5        66   \n",
       "4          TruePositive  ...          NaN   NaN        5        66   \n",
       "...                 ...  ...          ...   ...      ...       ...   \n",
       "9516832    TruePositive  ...          NaN   NaN        5        66   \n",
       "9516833  BenignPositive  ...          NaN   NaN        5        66   \n",
       "9516834  BenignPositive  ...          NaN   NaN        5        66   \n",
       "9516835  BenignPositive  ...          NaN   NaN        5        66   \n",
       "9516836  BenignPositive  ...          NaN   NaN        5        66   \n",
       "\n",
       "         AntispamDirection  SuspicionLevel  LastVerdict  CountryCode  State  \\\n",
       "0                      NaN             NaN          NaN           31      6   \n",
       "1                      NaN             NaN          NaN          242   1445   \n",
       "2                      NaN      Suspicious   Suspicious          242   1445   \n",
       "3                      NaN      Suspicious   Suspicious          242   1445   \n",
       "4                      NaN             NaN          NaN          242   1445   \n",
       "...                    ...             ...          ...          ...    ...   \n",
       "9516832                NaN             NaN          NaN          242   1445   \n",
       "9516833                NaN      Suspicious   Suspicious          242   1445   \n",
       "9516834                NaN             NaN          NaN          242   1445   \n",
       "9516835                NaN             NaN          NaN          242   1445   \n",
       "9516836                NaN             NaN          NaN          242   1445   \n",
       "\n",
       "          City  \n",
       "0            3  \n",
       "1        10630  \n",
       "2        10630  \n",
       "3        10630  \n",
       "4        10630  \n",
       "...        ...  \n",
       "9516832  10630  \n",
       "9516833  10630  \n",
       "9516834  10630  \n",
       "9516835  10630  \n",
       "9516836  10630  \n",
       "\n",
       "[9516837 rows x 45 columns]"
      ]
     },
     "execution_count": 2,
     "metadata": {},
     "output_type": "execute_result"
    }
   ],
   "source": [
    "import pandas as pd \n",
    "df=pd.read_csv(\"GUIDE_Train.csv\",low_memory=False)\n",
    "df"
   ]
  },
  {
   "cell_type": "code",
   "execution_count": 2,
   "id": "b7892257-5f06-43c6-99af-6a435f4f6513",
   "metadata": {},
   "outputs": [
    {
     "name": "stdout",
     "output_type": "stream",
     "text": [
      "9516837\n"
     ]
    }
   ],
   "source": [
    "rows,coloumns = df.shape\n",
    "print (rows)"
   ]
  },
  {
   "cell_type": "code",
   "execution_count": 3,
   "id": "7dbf5570-e461-40e8-acbe-12df7483102d",
   "metadata": {},
   "outputs": [
    {
     "data": {
      "text/plain": [
       "Index(['Id', 'OrgId', 'IncidentId', 'AlertId', 'Timestamp', 'DetectorId',\n",
       "       'AlertTitle', 'Category', 'MitreTechniques', 'IncidentGrade',\n",
       "       'ActionGrouped', 'ActionGranular', 'EntityType', 'EvidenceRole',\n",
       "       'DeviceId', 'Sha256', 'IpAddress', 'Url', 'AccountSid', 'AccountUpn',\n",
       "       'AccountObjectId', 'AccountName', 'DeviceName', 'NetworkMessageId',\n",
       "       'EmailClusterId', 'RegistryKey', 'RegistryValueName',\n",
       "       'RegistryValueData', 'ApplicationId', 'ApplicationName',\n",
       "       'OAuthApplicationId', 'ThreatFamily', 'FileName', 'FolderPath',\n",
       "       'ResourceIdName', 'ResourceType', 'Roles', 'OSFamily', 'OSVersion',\n",
       "       'AntispamDirection', 'SuspicionLevel', 'LastVerdict', 'CountryCode',\n",
       "       'State', 'City'],\n",
       "      dtype='object')"
      ]
     },
     "execution_count": 3,
     "metadata": {},
     "output_type": "execute_result"
    }
   ],
   "source": [
    "df.columns"
   ]
  },
  {
   "cell_type": "code",
   "execution_count": 3,
   "id": "27e31dca-740e-47ab-bdf4-55781e7254d1",
   "metadata": {},
   "outputs": [
    {
     "name": "stdout",
     "output_type": "stream",
     "text": [
      "                column  missing values\n",
      "0                   Id               0\n",
      "1                OrgId               0\n",
      "2           IncidentId               0\n",
      "3              AlertId               0\n",
      "4            Timestamp               0\n",
      "5           DetectorId               0\n",
      "6           AlertTitle               0\n",
      "7             Category               0\n",
      "8      MitreTechniques         5468386\n",
      "9        IncidentGrade           51340\n",
      "10       ActionGrouped         9460773\n",
      "11      ActionGranular         9460773\n",
      "12          EntityType               0\n",
      "13        EvidenceRole               0\n",
      "14            DeviceId               0\n",
      "15              Sha256               0\n",
      "16           IpAddress               0\n",
      "17                 Url               0\n",
      "18          AccountSid               0\n",
      "19          AccountUpn               0\n",
      "20     AccountObjectId               0\n",
      "21         AccountName               0\n",
      "22          DeviceName               0\n",
      "23    NetworkMessageId               0\n",
      "24      EmailClusterId         9420025\n",
      "25         RegistryKey               0\n",
      "26   RegistryValueName               0\n",
      "27   RegistryValueData               0\n",
      "28       ApplicationId               0\n",
      "29     ApplicationName               0\n",
      "30  OAuthApplicationId               0\n",
      "31        ThreatFamily         9441956\n",
      "32            FileName               0\n",
      "33          FolderPath               0\n",
      "34      ResourceIdName               0\n",
      "35        ResourceType         9509762\n",
      "36               Roles         9298686\n",
      "37            OSFamily               0\n",
      "38           OSVersion               0\n",
      "39   AntispamDirection         9339535\n",
      "40      SuspicionLevel         8072708\n",
      "41         LastVerdict         7282572\n",
      "42         CountryCode               0\n",
      "43               State               0\n",
      "44                City               0\n"
     ]
    }
   ],
   "source": [
    "missing_df=df.isnull().sum().reset_index()\n",
    "missing_df.columns=['column','missing values']\n",
    "print(missing_df)"
   ]
  },
  {
   "cell_type": "code",
   "execution_count": 4,
   "id": "5cb4c4e8-ba1a-4b00-8518-7522def4fa4e",
   "metadata": {},
   "outputs": [],
   "source": [
    "df.drop(columns=['ActionGrouped','ActionGranular','EmailClusterId','ThreatFamily','ResourceType','Roles',\n",
    "                 'AntispamDirection','SuspicionLevel','LastVerdict'],axis=1,inplace=True)"
   ]
  },
  {
   "cell_type": "code",
   "execution_count": 5,
   "id": "bc12b815-e63f-4a62-bb92-11d533908096",
   "metadata": {},
   "outputs": [],
   "source": [
    "df=df.dropna(subset=['IncidentGrade'])"
   ]
  },
  {
   "cell_type": "code",
   "execution_count": 6,
   "id": "25a50224-0612-4fe2-b8f0-e8545eff7c2f",
   "metadata": {},
   "outputs": [
    {
     "name": "stdout",
     "output_type": "stream",
     "text": [
      "9465497 36\n"
     ]
    }
   ],
   "source": [
    "rows,columns=df.shape\n",
    "print(rows,columns)"
   ]
  },
  {
   "cell_type": "code",
   "execution_count": 7,
   "id": "3bb28a74-5ec9-410b-833c-a6f9c3bd7548",
   "metadata": {},
   "outputs": [
    {
     "data": {
      "text/plain": [
       "Index(['Id', 'OrgId', 'IncidentId', 'AlertId', 'DetectorId', 'AlertTitle',\n",
       "       'DeviceId', 'Sha256', 'IpAddress', 'Url', 'AccountSid', 'AccountUpn',\n",
       "       'AccountObjectId', 'AccountName', 'DeviceName', 'NetworkMessageId',\n",
       "       'RegistryKey', 'RegistryValueName', 'RegistryValueData',\n",
       "       'ApplicationId', 'ApplicationName', 'OAuthApplicationId', 'FileName',\n",
       "       'FolderPath', 'ResourceIdName', 'OSFamily', 'OSVersion', 'CountryCode',\n",
       "       'State', 'City'],\n",
       "      dtype='object')"
      ]
     },
     "execution_count": 7,
     "metadata": {},
     "output_type": "execute_result"
    }
   ],
   "source": [
    "numerical_columns=df.select_dtypes(include=['number']).columns\n",
    "numerical_columns"
   ]
  },
  {
   "cell_type": "code",
   "execution_count": 8,
   "id": "4cfae3cd-8f00-4d01-b7ef-b90008af99ef",
   "metadata": {},
   "outputs": [
    {
     "data": {
      "text/plain": [
       "30"
      ]
     },
     "execution_count": 8,
     "metadata": {},
     "output_type": "execute_result"
    }
   ],
   "source": [
    "len(numerical_columns)"
   ]
  },
  {
   "cell_type": "code",
   "execution_count": 9,
   "id": "07d74ad2-9fba-4aad-9c9d-910ef1a464d1",
   "metadata": {},
   "outputs": [
    {
     "data": {
      "text/plain": [
       "Index(['Timestamp', 'Category', 'MitreTechniques', 'IncidentGrade',\n",
       "       'EntityType', 'EvidenceRole'],\n",
       "      dtype='object')"
      ]
     },
     "execution_count": 9,
     "metadata": {},
     "output_type": "execute_result"
    }
   ],
   "source": [
    "categorical_columns=df.select_dtypes(include=['object']).columns\n",
    "categorical_columns"
   ]
  },
  {
   "cell_type": "code",
   "execution_count": 10,
   "id": "eebff70c-d2ba-4bea-977a-7c6cff7f4c42",
   "metadata": {},
   "outputs": [
    {
     "data": {
      "text/plain": [
       "6"
      ]
     },
     "execution_count": 10,
     "metadata": {},
     "output_type": "execute_result"
    }
   ],
   "source": [
    "len(categorical_columns)"
   ]
  },
  {
   "cell_type": "code",
   "execution_count": 11,
   "id": "262a4757-3469-45bf-ad67-0e071234cf68",
   "metadata": {},
   "outputs": [
    {
     "name": "stderr",
     "output_type": "stream",
     "text": [
      "C:\\Users\\babushir\\AppData\\Local\\Temp\\ipykernel_7044\\2136277972.py:1: SettingWithCopyWarning: \n",
      "A value is trying to be set on a copy of a slice from a DataFrame.\n",
      "Try using .loc[row_indexer,col_indexer] = value instead\n",
      "\n",
      "See the caveats in the documentation: https://pandas.pydata.org/pandas-docs/stable/user_guide/indexing.html#returning-a-view-versus-a-copy\n",
      "  df[numerical_columns]=df[numerical_columns].fillna(df[numerical_columns].mean())\n"
     ]
    }
   ],
   "source": [
    "df[numerical_columns]=df[numerical_columns].fillna(df[numerical_columns].mean())"
   ]
  },
  {
   "cell_type": "code",
   "execution_count": 12,
   "id": "970ff366-c469-4be7-809c-867927ca03fd",
   "metadata": {},
   "outputs": [
    {
     "name": "stderr",
     "output_type": "stream",
     "text": [
      "C:\\Users\\babushir\\AppData\\Local\\Temp\\ipykernel_7044\\2934209648.py:1: SettingWithCopyWarning: \n",
      "A value is trying to be set on a copy of a slice from a DataFrame.\n",
      "Try using .loc[row_indexer,col_indexer] = value instead\n",
      "\n",
      "See the caveats in the documentation: https://pandas.pydata.org/pandas-docs/stable/user_guide/indexing.html#returning-a-view-versus-a-copy\n",
      "  df[categorical_columns]=df[categorical_columns].fillna(df[categorical_columns].mode().iloc[0])\n"
     ]
    }
   ],
   "source": [
    "df[categorical_columns]=df[categorical_columns].fillna(df[categorical_columns].mode().iloc[0])"
   ]
  },
  {
   "cell_type": "code",
   "execution_count": 13,
   "id": "9b737464-3a78-49f0-b36f-07b55449caa9",
   "metadata": {},
   "outputs": [
    {
     "name": "stdout",
     "output_type": "stream",
     "text": [
      "                column  missing values\n",
      "0                   Id               0\n",
      "1                OrgId               0\n",
      "2           IncidentId               0\n",
      "3              AlertId               0\n",
      "4            Timestamp               0\n",
      "5           DetectorId               0\n",
      "6           AlertTitle               0\n",
      "7             Category               0\n",
      "8      MitreTechniques               0\n",
      "9        IncidentGrade               0\n",
      "10          EntityType               0\n",
      "11        EvidenceRole               0\n",
      "12            DeviceId               0\n",
      "13              Sha256               0\n",
      "14           IpAddress               0\n",
      "15                 Url               0\n",
      "16          AccountSid               0\n",
      "17          AccountUpn               0\n",
      "18     AccountObjectId               0\n",
      "19         AccountName               0\n",
      "20          DeviceName               0\n",
      "21    NetworkMessageId               0\n",
      "22         RegistryKey               0\n",
      "23   RegistryValueName               0\n",
      "24   RegistryValueData               0\n",
      "25       ApplicationId               0\n",
      "26     ApplicationName               0\n",
      "27  OAuthApplicationId               0\n",
      "28            FileName               0\n",
      "29          FolderPath               0\n",
      "30      ResourceIdName               0\n",
      "31            OSFamily               0\n",
      "32           OSVersion               0\n",
      "33         CountryCode               0\n",
      "34               State               0\n",
      "35                City               0\n"
     ]
    }
   ],
   "source": [
    "missing_df=df.isnull().sum().reset_index()\n",
    "missing_df.columns=['column','missing values']\n",
    "print(missing_df)"
   ]
  },
  {
   "cell_type": "code",
   "execution_count": 14,
   "id": "5b60521b-4ffd-4e62-b951-8230ecbbb0fd",
   "metadata": {},
   "outputs": [
    {
     "name": "stderr",
     "output_type": "stream",
     "text": [
      "C:\\Users\\babushir\\AppData\\Local\\Temp\\ipykernel_7044\\1924528515.py:1: SettingWithCopyWarning: \n",
      "A value is trying to be set on a copy of a slice from a DataFrame.\n",
      "Try using .loc[row_indexer,col_indexer] = value instead\n",
      "\n",
      "See the caveats in the documentation: https://pandas.pydata.org/pandas-docs/stable/user_guide/indexing.html#returning-a-view-versus-a-copy\n",
      "  df['Timestamp']=pd.to_datetime(df['Timestamp'])\n",
      "C:\\Users\\babushir\\AppData\\Local\\Temp\\ipykernel_7044\\1924528515.py:2: SettingWithCopyWarning: \n",
      "A value is trying to be set on a copy of a slice from a DataFrame.\n",
      "Try using .loc[row_indexer,col_indexer] = value instead\n",
      "\n",
      "See the caveats in the documentation: https://pandas.pydata.org/pandas-docs/stable/user_guide/indexing.html#returning-a-view-versus-a-copy\n",
      "  df['Year']=df['Timestamp'].dt.year\n",
      "C:\\Users\\babushir\\AppData\\Local\\Temp\\ipykernel_7044\\1924528515.py:3: SettingWithCopyWarning: \n",
      "A value is trying to be set on a copy of a slice from a DataFrame.\n",
      "Try using .loc[row_indexer,col_indexer] = value instead\n",
      "\n",
      "See the caveats in the documentation: https://pandas.pydata.org/pandas-docs/stable/user_guide/indexing.html#returning-a-view-versus-a-copy\n",
      "  df['Month']=df['Timestamp'].dt.month\n",
      "C:\\Users\\babushir\\AppData\\Local\\Temp\\ipykernel_7044\\1924528515.py:4: SettingWithCopyWarning: \n",
      "A value is trying to be set on a copy of a slice from a DataFrame.\n",
      "Try using .loc[row_indexer,col_indexer] = value instead\n",
      "\n",
      "See the caveats in the documentation: https://pandas.pydata.org/pandas-docs/stable/user_guide/indexing.html#returning-a-view-versus-a-copy\n",
      "  df['Day']=df['Timestamp'].dt.day\n",
      "C:\\Users\\babushir\\AppData\\Local\\Temp\\ipykernel_7044\\1924528515.py:5: SettingWithCopyWarning: \n",
      "A value is trying to be set on a copy of a slice from a DataFrame.\n",
      "Try using .loc[row_indexer,col_indexer] = value instead\n",
      "\n",
      "See the caveats in the documentation: https://pandas.pydata.org/pandas-docs/stable/user_guide/indexing.html#returning-a-view-versus-a-copy\n",
      "  df['Hour']=df['Timestamp'].dt.hour\n",
      "C:\\Users\\babushir\\AppData\\Local\\Temp\\ipykernel_7044\\1924528515.py:6: SettingWithCopyWarning: \n",
      "A value is trying to be set on a copy of a slice from a DataFrame.\n",
      "Try using .loc[row_indexer,col_indexer] = value instead\n",
      "\n",
      "See the caveats in the documentation: https://pandas.pydata.org/pandas-docs/stable/user_guide/indexing.html#returning-a-view-versus-a-copy\n",
      "  df['Minutes']=df['Timestamp'].dt.minute\n",
      "C:\\Users\\babushir\\AppData\\Local\\Temp\\ipykernel_7044\\1924528515.py:7: SettingWithCopyWarning: \n",
      "A value is trying to be set on a copy of a slice from a DataFrame.\n",
      "Try using .loc[row_indexer,col_indexer] = value instead\n",
      "\n",
      "See the caveats in the documentation: https://pandas.pydata.org/pandas-docs/stable/user_guide/indexing.html#returning-a-view-versus-a-copy\n",
      "  df['Second']=df['Timestamp'].dt.second\n"
     ]
    }
   ],
   "source": [
    "df['Timestamp']=pd.to_datetime(df['Timestamp'])\n",
    "df['Year']=df['Timestamp'].dt.year\n",
    "df['Month']=df['Timestamp'].dt.month\n",
    "df['Day']=df['Timestamp'].dt.day\n",
    "df['Hour']=df['Timestamp'].dt.hour\n",
    "df['Minutes']=df['Timestamp'].dt.minute\n",
    "df['Second']=df['Timestamp'].dt.second\n",
    "df=df.drop(columns=['Timestamp'],axis=1)"
   ]
  },
  {
   "cell_type": "code",
   "execution_count": 15,
   "id": "0aff7a49-eb8c-47e3-b1b2-0dbd7d68a8a0",
   "metadata": {},
   "outputs": [
    {
     "data": {
      "text/plain": [
       "Index(['Id', 'OrgId', 'IncidentId', 'AlertId', 'DetectorId', 'AlertTitle',\n",
       "       'Category', 'MitreTechniques', 'IncidentGrade', 'EntityType',\n",
       "       'EvidenceRole', 'DeviceId', 'Sha256', 'IpAddress', 'Url', 'AccountSid',\n",
       "       'AccountUpn', 'AccountObjectId', 'AccountName', 'DeviceName',\n",
       "       'NetworkMessageId', 'RegistryKey', 'RegistryValueName',\n",
       "       'RegistryValueData', 'ApplicationId', 'ApplicationName',\n",
       "       'OAuthApplicationId', 'FileName', 'FolderPath', 'ResourceIdName',\n",
       "       'OSFamily', 'OSVersion', 'CountryCode', 'State', 'City', 'Year',\n",
       "       'Month', 'Day', 'Hour', 'Minutes', 'Second'],\n",
       "      dtype='object')"
      ]
     },
     "execution_count": 15,
     "metadata": {},
     "output_type": "execute_result"
    }
   ],
   "source": [
    "df.columns"
   ]
  },
  {
   "cell_type": "code",
   "execution_count": 16,
   "id": "9d13b24d-8025-4766-8c41-7cf6d65bdec7",
   "metadata": {},
   "outputs": [
    {
     "data": {
      "text/plain": [
       "Index(['Category', 'MitreTechniques', 'IncidentGrade', 'EntityType',\n",
       "       'EvidenceRole'],\n",
       "      dtype='object')"
      ]
     },
     "execution_count": 16,
     "metadata": {},
     "output_type": "execute_result"
    }
   ],
   "source": [
    "categorical_columns=df.select_dtypes(include=['object']).columns\n",
    "categorical_columns"
   ]
  },
  {
   "cell_type": "code",
   "execution_count": 17,
   "id": "0b72dbdc-79bf-481a-b2f0-03346c3f20fa",
   "metadata": {},
   "outputs": [
    {
     "name": "stdout",
     "output_type": "stream",
     "text": [
      "IncidentGrade\n",
      "BenignPositive    4110817\n",
      "TruePositive      3322713\n",
      "FalsePositive     2031967\n",
      "Name: count, dtype: int64\n"
     ]
    }
   ],
   "source": [
    "distribution=df['IncidentGrade'].value_counts()\n",
    "print(distribution)"
   ]
  },
  {
   "cell_type": "code",
   "execution_count": 18,
   "id": "11cce4d2-e722-4ed0-ae0b-1504cd53eb09",
   "metadata": {},
   "outputs": [],
   "source": [
    "import pandas as pd\n",
    "from sklearn.preprocessing import LabelEncoder\n",
    "categorical_columns=[ 'Category', 'MitreTechniques','EntityType', 'EvidenceRole']\n",
    "label_encoders={}\n",
    "for col in categorical_columns:\n",
    "    le=LabelEncoder()\n",
    "    df[col]=le.fit_transform(df[col])\n",
    "    label_encoders[col]=le\n",
    "\n",
    "le_target=LabelEncoder()\n",
    "df['IncidentGrade_encoded']=le_target.fit_transform(df['IncidentGrade'])\n",
    "df=df.drop(columns=['IncidentGrade'],axis=1)"
   ]
  },
  {
   "cell_type": "code",
   "execution_count": 20,
   "id": "c17bdd3c-31f5-44a3-a29c-f4c9c5a44fae",
   "metadata": {},
   "outputs": [
    {
     "data": {
      "text/plain": [
       "Index(['Id', 'OrgId', 'IncidentId', 'AlertId', 'DetectorId', 'AlertTitle',\n",
       "       'Category', 'MitreTechniques', 'EntityType', 'EvidenceRole', 'DeviceId',\n",
       "       'Sha256', 'IpAddress', 'Url', 'AccountSid', 'AccountUpn',\n",
       "       'AccountObjectId', 'AccountName', 'DeviceName', 'NetworkMessageId',\n",
       "       'RegistryKey', 'RegistryValueName', 'RegistryValueData',\n",
       "       'ApplicationId', 'ApplicationName', 'OAuthApplicationId', 'FileName',\n",
       "       'FolderPath', 'ResourceIdName', 'OSFamily', 'OSVersion', 'CountryCode',\n",
       "       'State', 'City', 'Year', 'Month', 'Day', 'Hour', 'Minutes', 'Second',\n",
       "       'IncidentGrade_encoded'],\n",
       "      dtype='object')"
      ]
     },
     "execution_count": 20,
     "metadata": {},
     "output_type": "execute_result"
    }
   ],
   "source": [
    "df.columns"
   ]
  },
  {
   "cell_type": "code",
   "execution_count": 22,
   "id": "d64a9b92-a0cd-4033-a0c4-cc68847e32c7",
   "metadata": {},
   "outputs": [
    {
     "name": "stdout",
     "output_type": "stream",
     "text": [
      "Model: LogisticRegression\n",
      "**********Train************\n",
      "Accuracy: 0.47537985660286963\n"
     ]
    },
    {
     "name": "stderr",
     "output_type": "stream",
     "text": [
      "C:\\Users\\babushir\\AppData\\Local\\Programs\\Python\\Python312\\Lib\\site-packages\\sklearn\\metrics\\_classification.py:1531: UndefinedMetricWarning: Precision is ill-defined and being set to 0.0 in labels with no predicted samples. Use `zero_division` parameter to control this behavior.\n",
      "  _warn_prf(average, modifier, f\"{metric.capitalize()} is\", len(result))\n"
     ]
    },
    {
     "name": "stdout",
     "output_type": "stream",
     "text": [
      "Precision: 0.31353420796689274\n",
      "Recall: 0.3889800399433237\n",
      "f1 score: 0.3376242065223949\n",
      "**********Test************\n",
      "Accuracy: 0.4751840895885056\n"
     ]
    },
    {
     "name": "stderr",
     "output_type": "stream",
     "text": [
      "C:\\Users\\babushir\\AppData\\Local\\Programs\\Python\\Python312\\Lib\\site-packages\\sklearn\\metrics\\_classification.py:1531: UndefinedMetricWarning: Precision is ill-defined and being set to 0.0 in labels with no predicted samples. Use `zero_division` parameter to control this behavior.\n",
      "  _warn_prf(average, modifier, f\"{metric.capitalize()} is\", len(result))\n"
     ]
    },
    {
     "name": "stdout",
     "output_type": "stream",
     "text": [
      "Precision: 0.3134350912052039\n",
      "Recall: 0.3889516111470785\n",
      "f1 score: 0.3375247025844441\n",
      "Model: DecisionTreeClassifier\n",
      "**********Train************\n",
      "Accuracy: 1.0\n",
      "Precision: 1.0\n",
      "Recall: 1.0\n",
      "f1 score: 1.0\n",
      "**********Test************\n",
      "Accuracy: 0.9968680999418943\n",
      "Precision: 0.9965968807572366\n",
      "Recall: 0.9966249162936677\n",
      "f1 score: 0.9966108954952665\n",
      "Model: RandomForestClassifier\n",
      "**********Train************\n",
      "Accuracy: 0.9999998679414194\n",
      "Precision: 0.999999794879621\n",
      "Recall: 0.9999998746168605\n",
      "f1 score: 0.9999998347481974\n",
      "**********Test************\n",
      "Accuracy: 0.9862828165442924\n",
      "Precision: 0.985897227958672\n",
      "Recall: 0.9846165776254727\n",
      "f1 score: 0.9852444448660691\n"
     ]
    },
    {
     "ename": "NameError",
     "evalue": "name 'joblib' is not defined",
     "output_type": "error",
     "traceback": [
      "\u001b[1;31m---------------------------------------------------------------------------\u001b[0m",
      "\u001b[1;31mNameError\u001b[0m                                 Traceback (most recent call last)",
      "Cell \u001b[1;32mIn[22], line 32\u001b[0m\n\u001b[0;32m     29\u001b[0m         rf_model\u001b[38;5;241m=\u001b[39mmodel\n\u001b[0;32m     31\u001b[0m \u001b[38;5;28;01mif\u001b[39;00m rf_model:\n\u001b[1;32m---> 32\u001b[0m     \u001b[43mjoblib\u001b[49m\u001b[38;5;241m.\u001b[39mdump(rf_model,\u001b[38;5;124m'\u001b[39m\u001b[38;5;124mrandom_forest_classifier_model.pkl\u001b[39m\u001b[38;5;124m'\u001b[39m)\n\u001b[0;32m     33\u001b[0m     \u001b[38;5;28mprint\u001b[39m(\u001b[38;5;124m\"\u001b[39m\u001b[38;5;124mmodel saved successfully\u001b[39m\u001b[38;5;124m\"\u001b[39m)\n\u001b[0;32m     34\u001b[0m \u001b[38;5;28;01melse\u001b[39;00m:\n",
      "\u001b[1;31mNameError\u001b[0m: name 'joblib' is not defined"
     ]
    }
   ],
   "source": [
    "#normal models\n",
    "import pandas as pd\n",
    "from sklearn.model_selection import train_test_split\n",
    "from sklearn.linear_model import LogisticRegression\n",
    "from sklearn.tree import DecisionTreeClassifier\n",
    "from sklearn.ensemble import RandomForestClassifier\n",
    "from sklearn.metrics import accuracy_score,precision_score,recall_score,f1_score\n",
    "\n",
    "X=df.drop(columns=['IncidentGrade_encoded'],axis=1)\n",
    "y=df['IncidentGrade_encoded']\n",
    "X_train,X_test,y_train,y_test=train_test_split(X,y,test_size=0.2)\n",
    "models=[LogisticRegression(),DecisionTreeClassifier(),RandomForestClassifier()]\n",
    "for model in models:\n",
    "    model.fit(X_train,y_train)\n",
    "    train_pred=model.predict(X_train)\n",
    "    test_pred=model.predict(X_test)\n",
    "    print(f\"Model: {type(model).__name__}\")\n",
    "    print(\"**********Train************\")\n",
    "    print(f\"Accuracy: {accuracy_score(y_train,train_pred)}\")\n",
    "    print(f\"Precision: {precision_score(y_train,train_pred,average='macro')}\")\n",
    "    print(f\"Recall: {recall_score(y_train,train_pred,average='macro')}\")\n",
    "    print(f\"f1 score: {f1_score(y_train,train_pred,average='macro')}\")\n",
    "    print(\"**********Test************\")\n",
    "    print(f\"Accuracy: {accuracy_score(y_test,test_pred)}\")\n",
    "    print(f\"Precision: {precision_score(y_test,test_pred,average='macro')}\")\n",
    "    print(f\"Recall: {recall_score(y_test,test_pred,average='macro')}\")\n",
    "    print(f\"f1 score: {f1_score(y_test,test_pred,average='macro')}\")\n",
    "   \n",
    "    if isinstance(model,RandomForestClassifier):\n",
    "        rf_model=model\n",
    "\n",
    "    \n"
   ]
  },
  {
   "cell_type": "code",
   "execution_count": 23,
   "id": "1c4634f8-20a4-4668-8e9f-cea61f336792",
   "metadata": {},
   "outputs": [
    {
     "name": "stdout",
     "output_type": "stream",
     "text": [
      "model saved successfully\n"
     ]
    }
   ],
   "source": [
    "import joblib\n",
    "if rf_model:\n",
    "    joblib.dump(rf_model,'random_forest_classifier_model.pkl')\n",
    "    print(\"model saved successfully\")\n",
    "else:\n",
    "    print(\"model not available\")"
   ]
  },
  {
   "cell_type": "code",
   "execution_count": 19,
   "id": "0819d7e6-99db-4177-80a3-4fe96f022eab",
   "metadata": {},
   "outputs": [
    {
     "name": "stdout",
     "output_type": "stream",
     "text": [
      "Model: LogisticRegression\n",
      "**********Train************\n",
      "Accuracy: 0.3868324015098379\n",
      "Precision: 0.3831240071505539\n",
      "Recall: 0.3868086327207014\n",
      "f1 score: 0.3840375300043237\n",
      "**********Test************\n",
      "Accuracy: 0.38629129398809886\n",
      "Precision: 0.3826640072046816\n",
      "Recall: 0.38638632556970337\n",
      "f1 score: 0.38356923503496776\n",
      "Model: DecisionTreeClassifier\n",
      "**********Train************\n",
      "Accuracy: 1.0\n",
      "Precision: 1.0\n",
      "Recall: 1.0\n",
      "f1 score: 1.0\n",
      "**********Test************\n",
      "Accuracy: 0.9981191903801798\n",
      "Precision: 0.9981198710477828\n",
      "Recall: 0.9981193857420739\n",
      "f1 score: 0.9981194009107573\n",
      "Model: RandomForestClassifier\n",
      "**********Train************\n",
      "Accuracy: 0.9999995945655568\n",
      "Precision: 0.9999995944296124\n",
      "Recall: 0.9999995945478001\n",
      "f1 score: 0.9999995944885058\n",
      "**********Test************\n",
      "Accuracy: 0.9923924311907077\n",
      "Precision: 0.9924088753522874\n",
      "Recall: 0.9923894829293127\n",
      "f1 score: 0.9923922980040071\n"
     ]
    }
   ],
   "source": [
    "import pandas as pd\n",
    "from sklearn.model_selection import train_test_split\n",
    "from sklearn.linear_model import LogisticRegression\n",
    "from sklearn.tree import DecisionTreeClassifier\n",
    "from sklearn.ensemble import RandomForestClassifier\n",
    "from sklearn.metrics import accuracy_score,precision_score,recall_score,f1_score\n",
    "from imblearn.over_sampling import RandomOverSampler\n",
    "model=RandomOverSampler()\n",
    "X=df.drop(columns=['IncidentGrade_encoded'],axis=1)\n",
    "y=df['IncidentGrade_encoded']\n",
    "X,y=model.fit_resample(X,y)\n",
    "X_train,X_test,y_train,y_test=train_test_split(X,y,test_size=0.2)\n",
    "models=[LogisticRegression(),DecisionTreeClassifier(),RandomForestClassifier()]\n",
    "for mod in models:\n",
    "    mod.fit(X_train,y_train)\n",
    "    train_pred=mod.predict(X_train)\n",
    "    test_pred=mod.predict(X_test)\n",
    "    print(f\"Model: {type(mod).__name__}\")\n",
    "    print(\"**********Train************\")\n",
    "    print(f\"Accuracy: {accuracy_score(y_train,train_pred)}\")\n",
    "    print(f\"Precision: {precision_score(y_train,train_pred,average='macro')}\")\n",
    "    print(f\"Recall: {recall_score(y_train,train_pred,average='macro')}\")\n",
    "    print(f\"f1 score: {f1_score(y_train,train_pred,average='macro')}\")\n",
    "    print(\"**********Test************\")\n",
    "    print(f\"Accuracy: {accuracy_score(y_test,test_pred)}\")\n",
    "    print(f\"Precision: {precision_score(y_test,test_pred,average='macro')}\")\n",
    "    print(f\"Recall: {recall_score(y_test,test_pred,average='macro')}\")\n",
    "    print(f\"f1 score: {f1_score(y_test,test_pred,average='macro')}\")\n",
    "    if isinstance(mod,RandomForestClassifier):\n",
    "        rf_oversampled_model=mod\n",
    "\n"
   ]
  },
  {
   "cell_type": "code",
   "execution_count": 20,
   "id": "c700e0b3-4454-4bb3-b0ba-1fa344bb796e",
   "metadata": {},
   "outputs": [
    {
     "name": "stdout",
     "output_type": "stream",
     "text": [
      "model saved successfully\n"
     ]
    }
   ],
   "source": [
    "import joblib\n",
    "if rf_oversampled_model:\n",
    "    joblib.dump(rf_oversampled_model,'oversampled_random_forest_classifier_model.pkl')\n",
    "    print(\"model saved successfully\")\n",
    "else:\n",
    "    print(\"model not available\")"
   ]
  },
  {
   "cell_type": "markdown",
   "id": "31af9847-bb61-4774-91db-a3d601f7f33e",
   "metadata": {},
   "source": [
    "# TESTING"
   ]
  },
  {
   "cell_type": "code",
   "execution_count": 21,
   "id": "ba53f340-0654-4641-864b-36435dcd1c7d",
   "metadata": {},
   "outputs": [
    {
     "data": {
      "text/html": [
       "<div>\n",
       "<style scoped>\n",
       "    .dataframe tbody tr th:only-of-type {\n",
       "        vertical-align: middle;\n",
       "    }\n",
       "\n",
       "    .dataframe tbody tr th {\n",
       "        vertical-align: top;\n",
       "    }\n",
       "\n",
       "    .dataframe thead th {\n",
       "        text-align: right;\n",
       "    }\n",
       "</style>\n",
       "<table border=\"1\" class=\"dataframe\">\n",
       "  <thead>\n",
       "    <tr style=\"text-align: right;\">\n",
       "      <th></th>\n",
       "      <th>Id</th>\n",
       "      <th>OrgId</th>\n",
       "      <th>IncidentId</th>\n",
       "      <th>AlertId</th>\n",
       "      <th>Timestamp</th>\n",
       "      <th>DetectorId</th>\n",
       "      <th>AlertTitle</th>\n",
       "      <th>Category</th>\n",
       "      <th>MitreTechniques</th>\n",
       "      <th>IncidentGrade</th>\n",
       "      <th>...</th>\n",
       "      <th>Roles</th>\n",
       "      <th>OSFamily</th>\n",
       "      <th>OSVersion</th>\n",
       "      <th>AntispamDirection</th>\n",
       "      <th>SuspicionLevel</th>\n",
       "      <th>LastVerdict</th>\n",
       "      <th>CountryCode</th>\n",
       "      <th>State</th>\n",
       "      <th>City</th>\n",
       "      <th>Usage</th>\n",
       "    </tr>\n",
       "  </thead>\n",
       "  <tbody>\n",
       "    <tr>\n",
       "      <th>0</th>\n",
       "      <td>1245540519230</td>\n",
       "      <td>657</td>\n",
       "      <td>11767</td>\n",
       "      <td>87199</td>\n",
       "      <td>2024-06-04T22:56:27.000Z</td>\n",
       "      <td>524</td>\n",
       "      <td>563</td>\n",
       "      <td>LateralMovement</td>\n",
       "      <td>T1021;T1047;T1105;T1569.002</td>\n",
       "      <td>BenignPositive</td>\n",
       "      <td>...</td>\n",
       "      <td>NaN</td>\n",
       "      <td>5</td>\n",
       "      <td>66</td>\n",
       "      <td>NaN</td>\n",
       "      <td>Suspicious</td>\n",
       "      <td>Suspicious</td>\n",
       "      <td>242</td>\n",
       "      <td>1445</td>\n",
       "      <td>10630</td>\n",
       "      <td>Private</td>\n",
       "    </tr>\n",
       "    <tr>\n",
       "      <th>1</th>\n",
       "      <td>1400159342154</td>\n",
       "      <td>3</td>\n",
       "      <td>91158</td>\n",
       "      <td>632273</td>\n",
       "      <td>2024-06-03T12:58:26.000Z</td>\n",
       "      <td>2</td>\n",
       "      <td>2</td>\n",
       "      <td>CommandAndControl</td>\n",
       "      <td>NaN</td>\n",
       "      <td>BenignPositive</td>\n",
       "      <td>...</td>\n",
       "      <td>NaN</td>\n",
       "      <td>0</td>\n",
       "      <td>0</td>\n",
       "      <td>NaN</td>\n",
       "      <td>Suspicious</td>\n",
       "      <td>Suspicious</td>\n",
       "      <td>242</td>\n",
       "      <td>1445</td>\n",
       "      <td>10630</td>\n",
       "      <td>Public</td>\n",
       "    </tr>\n",
       "    <tr>\n",
       "      <th>2</th>\n",
       "      <td>1279900255923</td>\n",
       "      <td>145</td>\n",
       "      <td>32247</td>\n",
       "      <td>131719</td>\n",
       "      <td>2024-06-08T03:20:49.000Z</td>\n",
       "      <td>2932</td>\n",
       "      <td>10807</td>\n",
       "      <td>LateralMovement</td>\n",
       "      <td>T1021;T1027.002;T1027.005;T1105</td>\n",
       "      <td>BenignPositive</td>\n",
       "      <td>...</td>\n",
       "      <td>NaN</td>\n",
       "      <td>5</td>\n",
       "      <td>66</td>\n",
       "      <td>NaN</td>\n",
       "      <td>Suspicious</td>\n",
       "      <td>Suspicious</td>\n",
       "      <td>242</td>\n",
       "      <td>1445</td>\n",
       "      <td>10630</td>\n",
       "      <td>Public</td>\n",
       "    </tr>\n",
       "    <tr>\n",
       "      <th>3</th>\n",
       "      <td>60129547292</td>\n",
       "      <td>222</td>\n",
       "      <td>15294</td>\n",
       "      <td>917686</td>\n",
       "      <td>2024-06-12T12:07:31.000Z</td>\n",
       "      <td>0</td>\n",
       "      <td>0</td>\n",
       "      <td>InitialAccess</td>\n",
       "      <td>T1078;T1078.004</td>\n",
       "      <td>FalsePositive</td>\n",
       "      <td>...</td>\n",
       "      <td>NaN</td>\n",
       "      <td>5</td>\n",
       "      <td>66</td>\n",
       "      <td>NaN</td>\n",
       "      <td>NaN</td>\n",
       "      <td>NaN</td>\n",
       "      <td>242</td>\n",
       "      <td>1445</td>\n",
       "      <td>10630</td>\n",
       "      <td>Public</td>\n",
       "    </tr>\n",
       "    <tr>\n",
       "      <th>4</th>\n",
       "      <td>515396080539</td>\n",
       "      <td>363</td>\n",
       "      <td>7615</td>\n",
       "      <td>5944</td>\n",
       "      <td>2024-06-06T17:42:05.000Z</td>\n",
       "      <td>27</td>\n",
       "      <td>18</td>\n",
       "      <td>Discovery</td>\n",
       "      <td>T1087;T1087.002</td>\n",
       "      <td>BenignPositive</td>\n",
       "      <td>...</td>\n",
       "      <td>Suspicious</td>\n",
       "      <td>5</td>\n",
       "      <td>66</td>\n",
       "      <td>NaN</td>\n",
       "      <td>NaN</td>\n",
       "      <td>NaN</td>\n",
       "      <td>242</td>\n",
       "      <td>1445</td>\n",
       "      <td>10630</td>\n",
       "      <td>Public</td>\n",
       "    </tr>\n",
       "    <tr>\n",
       "      <th>...</th>\n",
       "      <td>...</td>\n",
       "      <td>...</td>\n",
       "      <td>...</td>\n",
       "      <td>...</td>\n",
       "      <td>...</td>\n",
       "      <td>...</td>\n",
       "      <td>...</td>\n",
       "      <td>...</td>\n",
       "      <td>...</td>\n",
       "      <td>...</td>\n",
       "      <td>...</td>\n",
       "      <td>...</td>\n",
       "      <td>...</td>\n",
       "      <td>...</td>\n",
       "      <td>...</td>\n",
       "      <td>...</td>\n",
       "      <td>...</td>\n",
       "      <td>...</td>\n",
       "      <td>...</td>\n",
       "      <td>...</td>\n",
       "      <td>...</td>\n",
       "    </tr>\n",
       "    <tr>\n",
       "      <th>4147987</th>\n",
       "      <td>541165881145</td>\n",
       "      <td>262</td>\n",
       "      <td>3017</td>\n",
       "      <td>227156</td>\n",
       "      <td>2024-06-04T03:53:15.000Z</td>\n",
       "      <td>139</td>\n",
       "      <td>120</td>\n",
       "      <td>InitialAccess</td>\n",
       "      <td>T1566.002</td>\n",
       "      <td>BenignPositive</td>\n",
       "      <td>...</td>\n",
       "      <td>NaN</td>\n",
       "      <td>5</td>\n",
       "      <td>66</td>\n",
       "      <td>NaN</td>\n",
       "      <td>NaN</td>\n",
       "      <td>NaN</td>\n",
       "      <td>242</td>\n",
       "      <td>1445</td>\n",
       "      <td>10630</td>\n",
       "      <td>Public</td>\n",
       "    </tr>\n",
       "    <tr>\n",
       "      <th>4147988</th>\n",
       "      <td>438086666953</td>\n",
       "      <td>1323</td>\n",
       "      <td>31001</td>\n",
       "      <td>304819</td>\n",
       "      <td>2024-06-04T19:32:19.000Z</td>\n",
       "      <td>219</td>\n",
       "      <td>196</td>\n",
       "      <td>InitialAccess</td>\n",
       "      <td>NaN</td>\n",
       "      <td>BenignPositive</td>\n",
       "      <td>...</td>\n",
       "      <td>NaN</td>\n",
       "      <td>5</td>\n",
       "      <td>66</td>\n",
       "      <td>NaN</td>\n",
       "      <td>NaN</td>\n",
       "      <td>NaN</td>\n",
       "      <td>242</td>\n",
       "      <td>1445</td>\n",
       "      <td>10630</td>\n",
       "      <td>Private</td>\n",
       "    </tr>\n",
       "    <tr>\n",
       "      <th>4147989</th>\n",
       "      <td>1297080124487</td>\n",
       "      <td>47</td>\n",
       "      <td>3653</td>\n",
       "      <td>7243</td>\n",
       "      <td>2024-06-15T00:50:22.000Z</td>\n",
       "      <td>57</td>\n",
       "      <td>29</td>\n",
       "      <td>CommandAndControl</td>\n",
       "      <td>T1046;T1071;T1210</td>\n",
       "      <td>FalsePositive</td>\n",
       "      <td>...</td>\n",
       "      <td>NaN</td>\n",
       "      <td>5</td>\n",
       "      <td>66</td>\n",
       "      <td>NaN</td>\n",
       "      <td>NaN</td>\n",
       "      <td>NaN</td>\n",
       "      <td>242</td>\n",
       "      <td>1445</td>\n",
       "      <td>10630</td>\n",
       "      <td>Public</td>\n",
       "    </tr>\n",
       "    <tr>\n",
       "      <th>4147990</th>\n",
       "      <td>627065226886</td>\n",
       "      <td>70</td>\n",
       "      <td>4243</td>\n",
       "      <td>19142</td>\n",
       "      <td>2024-06-11T16:18:12.000Z</td>\n",
       "      <td>1</td>\n",
       "      <td>1</td>\n",
       "      <td>InitialAccess</td>\n",
       "      <td>T1566.002</td>\n",
       "      <td>BenignPositive</td>\n",
       "      <td>...</td>\n",
       "      <td>NaN</td>\n",
       "      <td>5</td>\n",
       "      <td>66</td>\n",
       "      <td>NaN</td>\n",
       "      <td>NaN</td>\n",
       "      <td>NaN</td>\n",
       "      <td>242</td>\n",
       "      <td>1445</td>\n",
       "      <td>10630</td>\n",
       "      <td>Private</td>\n",
       "    </tr>\n",
       "    <tr>\n",
       "      <th>4147991</th>\n",
       "      <td>326417516547</td>\n",
       "      <td>227</td>\n",
       "      <td>8384</td>\n",
       "      <td>33529</td>\n",
       "      <td>2024-06-04T18:11:09.000Z</td>\n",
       "      <td>1</td>\n",
       "      <td>1</td>\n",
       "      <td>InitialAccess</td>\n",
       "      <td>T1566.002</td>\n",
       "      <td>TruePositive</td>\n",
       "      <td>...</td>\n",
       "      <td>NaN</td>\n",
       "      <td>5</td>\n",
       "      <td>66</td>\n",
       "      <td>NaN</td>\n",
       "      <td>NaN</td>\n",
       "      <td>NoThreatsFound</td>\n",
       "      <td>242</td>\n",
       "      <td>1445</td>\n",
       "      <td>10630</td>\n",
       "      <td>Public</td>\n",
       "    </tr>\n",
       "  </tbody>\n",
       "</table>\n",
       "<p>4147992 rows × 46 columns</p>\n",
       "</div>"
      ],
      "text/plain": [
       "                    Id  OrgId  IncidentId  AlertId                 Timestamp  \\\n",
       "0        1245540519230    657       11767    87199  2024-06-04T22:56:27.000Z   \n",
       "1        1400159342154      3       91158   632273  2024-06-03T12:58:26.000Z   \n",
       "2        1279900255923    145       32247   131719  2024-06-08T03:20:49.000Z   \n",
       "3          60129547292    222       15294   917686  2024-06-12T12:07:31.000Z   \n",
       "4         515396080539    363        7615     5944  2024-06-06T17:42:05.000Z   \n",
       "...                ...    ...         ...      ...                       ...   \n",
       "4147987   541165881145    262        3017   227156  2024-06-04T03:53:15.000Z   \n",
       "4147988   438086666953   1323       31001   304819  2024-06-04T19:32:19.000Z   \n",
       "4147989  1297080124487     47        3653     7243  2024-06-15T00:50:22.000Z   \n",
       "4147990   627065226886     70        4243    19142  2024-06-11T16:18:12.000Z   \n",
       "4147991   326417516547    227        8384    33529  2024-06-04T18:11:09.000Z   \n",
       "\n",
       "         DetectorId  AlertTitle           Category  \\\n",
       "0               524         563    LateralMovement   \n",
       "1                 2           2  CommandAndControl   \n",
       "2              2932       10807    LateralMovement   \n",
       "3                 0           0      InitialAccess   \n",
       "4                27          18          Discovery   \n",
       "...             ...         ...                ...   \n",
       "4147987         139         120      InitialAccess   \n",
       "4147988         219         196      InitialAccess   \n",
       "4147989          57          29  CommandAndControl   \n",
       "4147990           1           1      InitialAccess   \n",
       "4147991           1           1      InitialAccess   \n",
       "\n",
       "                         MitreTechniques   IncidentGrade  ...       Roles  \\\n",
       "0            T1021;T1047;T1105;T1569.002  BenignPositive  ...         NaN   \n",
       "1                                    NaN  BenignPositive  ...         NaN   \n",
       "2        T1021;T1027.002;T1027.005;T1105  BenignPositive  ...         NaN   \n",
       "3                        T1078;T1078.004   FalsePositive  ...         NaN   \n",
       "4                        T1087;T1087.002  BenignPositive  ...  Suspicious   \n",
       "...                                  ...             ...  ...         ...   \n",
       "4147987                        T1566.002  BenignPositive  ...         NaN   \n",
       "4147988                              NaN  BenignPositive  ...         NaN   \n",
       "4147989                T1046;T1071;T1210   FalsePositive  ...         NaN   \n",
       "4147990                        T1566.002  BenignPositive  ...         NaN   \n",
       "4147991                        T1566.002    TruePositive  ...         NaN   \n",
       "\n",
       "        OSFamily OSVersion AntispamDirection  SuspicionLevel     LastVerdict  \\\n",
       "0              5        66               NaN      Suspicious      Suspicious   \n",
       "1              0         0               NaN      Suspicious      Suspicious   \n",
       "2              5        66               NaN      Suspicious      Suspicious   \n",
       "3              5        66               NaN             NaN             NaN   \n",
       "4              5        66               NaN             NaN             NaN   \n",
       "...          ...       ...               ...             ...             ...   \n",
       "4147987        5        66               NaN             NaN             NaN   \n",
       "4147988        5        66               NaN             NaN             NaN   \n",
       "4147989        5        66               NaN             NaN             NaN   \n",
       "4147990        5        66               NaN             NaN             NaN   \n",
       "4147991        5        66               NaN             NaN  NoThreatsFound   \n",
       "\n",
       "         CountryCode  State   City    Usage  \n",
       "0                242   1445  10630  Private  \n",
       "1                242   1445  10630   Public  \n",
       "2                242   1445  10630   Public  \n",
       "3                242   1445  10630   Public  \n",
       "4                242   1445  10630   Public  \n",
       "...              ...    ...    ...      ...  \n",
       "4147987          242   1445  10630   Public  \n",
       "4147988          242   1445  10630  Private  \n",
       "4147989          242   1445  10630   Public  \n",
       "4147990          242   1445  10630  Private  \n",
       "4147991          242   1445  10630   Public  \n",
       "\n",
       "[4147992 rows x 46 columns]"
      ]
     },
     "execution_count": 21,
     "metadata": {},
     "output_type": "execute_result"
    }
   ],
   "source": [
    "import pandas as pd \n",
    "df_test=pd.read_csv(\"GUIDE_Test.csv\",low_memory=False)\n",
    "df_test\n"
   ]
  },
  {
   "cell_type": "code",
   "execution_count": 22,
   "id": "aa8bf1ff-f286-45ea-9751-087f0f24735c",
   "metadata": {},
   "outputs": [
    {
     "data": {
      "text/plain": [
       "Index(['Id', 'OrgId', 'IncidentId', 'AlertId', 'Timestamp', 'DetectorId',\n",
       "       'AlertTitle', 'Category', 'MitreTechniques', 'IncidentGrade',\n",
       "       'ActionGrouped', 'ActionGranular', 'EntityType', 'EvidenceRole',\n",
       "       'DeviceId', 'Sha256', 'IpAddress', 'Url', 'AccountSid', 'AccountUpn',\n",
       "       'AccountObjectId', 'AccountName', 'DeviceName', 'NetworkMessageId',\n",
       "       'EmailClusterId', 'RegistryKey', 'RegistryValueName',\n",
       "       'RegistryValueData', 'ApplicationId', 'ApplicationName',\n",
       "       'OAuthApplicationId', 'ThreatFamily', 'FileName', 'FolderPath',\n",
       "       'ResourceIdName', 'ResourceType', 'Roles', 'OSFamily', 'OSVersion',\n",
       "       'AntispamDirection', 'SuspicionLevel', 'LastVerdict', 'CountryCode',\n",
       "       'State', 'City', 'Usage'],\n",
       "      dtype='object')"
      ]
     },
     "execution_count": 22,
     "metadata": {},
     "output_type": "execute_result"
    }
   ],
   "source": [
    "df_test.columns"
   ]
  },
  {
   "cell_type": "code",
   "execution_count": 23,
   "id": "c0fb78f4-c310-4d2f-9bb8-7d054de0e2e6",
   "metadata": {},
   "outputs": [
    {
     "name": "stdout",
     "output_type": "stream",
     "text": [
      "                column  missing values\n",
      "0                   Id               0\n",
      "1                OrgId               0\n",
      "2           IncidentId               0\n",
      "3              AlertId               0\n",
      "4            Timestamp               0\n",
      "5           DetectorId               0\n",
      "6           AlertTitle               0\n",
      "7             Category               0\n",
      "8      MitreTechniques         2307104\n",
      "9        IncidentGrade               0\n",
      "10       ActionGrouped         4146079\n",
      "11      ActionGranular         4146079\n",
      "12          EntityType               0\n",
      "13        EvidenceRole               0\n",
      "14            DeviceId               0\n",
      "15              Sha256               0\n",
      "16           IpAddress               0\n",
      "17                 Url               0\n",
      "18          AccountSid               0\n",
      "19          AccountUpn               0\n",
      "20     AccountObjectId               0\n",
      "21         AccountName               0\n",
      "22          DeviceName               0\n",
      "23    NetworkMessageId               0\n",
      "24      EmailClusterId         4106285\n",
      "25         RegistryKey               0\n",
      "26   RegistryValueName               0\n",
      "27   RegistryValueData               0\n",
      "28       ApplicationId               0\n",
      "29     ApplicationName               0\n",
      "30  OAuthApplicationId               0\n",
      "31        ThreatFamily         4116614\n",
      "32            FileName               0\n",
      "33          FolderPath               0\n",
      "34      ResourceIdName               0\n",
      "35        ResourceType         4144998\n",
      "36               Roles         4039317\n",
      "37            OSFamily               0\n",
      "38           OSVersion               0\n",
      "39   AntispamDirection         4071481\n",
      "40      SuspicionLevel         3498157\n",
      "41         LastVerdict         3155260\n",
      "42         CountryCode               0\n",
      "43               State               0\n",
      "44                City               0\n",
      "45               Usage               0\n"
     ]
    }
   ],
   "source": [
    "missing_df=df_test.isnull().sum().reset_index()\n",
    "missing_df.columns=['column','missing values']\n",
    "print(missing_df)"
   ]
  },
  {
   "cell_type": "code",
   "execution_count": 24,
   "id": "ff096af3-2360-40ec-b224-15f508397f8f",
   "metadata": {},
   "outputs": [],
   "source": [
    "df_test.drop(columns=['ActionGrouped','ActionGranular','EmailClusterId','ThreatFamily','ResourceType','Roles',\n",
    "                 'AntispamDirection','SuspicionLevel','LastVerdict','Usage'],axis=1,inplace=True)"
   ]
  },
  {
   "cell_type": "code",
   "execution_count": 25,
   "id": "1b29b5be-ca4f-4918-bebd-ad9d3bde9736",
   "metadata": {},
   "outputs": [
    {
     "data": {
      "text/plain": [
       "Index(['Id', 'OrgId', 'IncidentId', 'AlertId', 'DetectorId', 'AlertTitle',\n",
       "       'DeviceId', 'Sha256', 'IpAddress', 'Url', 'AccountSid', 'AccountUpn',\n",
       "       'AccountObjectId', 'AccountName', 'DeviceName', 'NetworkMessageId',\n",
       "       'RegistryKey', 'RegistryValueName', 'RegistryValueData',\n",
       "       'ApplicationId', 'ApplicationName', 'OAuthApplicationId', 'FileName',\n",
       "       'FolderPath', 'ResourceIdName', 'OSFamily', 'OSVersion', 'CountryCode',\n",
       "       'State', 'City'],\n",
       "      dtype='object')"
      ]
     },
     "execution_count": 25,
     "metadata": {},
     "output_type": "execute_result"
    }
   ],
   "source": [
    "numerical_columns=df_test.select_dtypes(include=['number']).columns\n",
    "numerical_columns"
   ]
  },
  {
   "cell_type": "code",
   "execution_count": 26,
   "id": "671c9396-6e61-41a8-a1df-fb95160ffc0d",
   "metadata": {},
   "outputs": [
    {
     "data": {
      "text/plain": [
       "Index(['Timestamp', 'Category', 'MitreTechniques', 'IncidentGrade',\n",
       "       'EntityType', 'EvidenceRole'],\n",
       "      dtype='object')"
      ]
     },
     "execution_count": 26,
     "metadata": {},
     "output_type": "execute_result"
    }
   ],
   "source": [
    "categorical_columns=df_test.select_dtypes(include=['object']).columns\n",
    "categorical_columns"
   ]
  },
  {
   "cell_type": "code",
   "execution_count": 27,
   "id": "c6f52b9c-06bf-4a21-907a-f7b0e4967369",
   "metadata": {},
   "outputs": [],
   "source": [
    "df_test[numerical_columns]=df_test[numerical_columns].fillna(df_test[numerical_columns].mean())"
   ]
  },
  {
   "cell_type": "code",
   "execution_count": 28,
   "id": "48c1f1f4-d602-492a-ba70-5b45c535f77e",
   "metadata": {},
   "outputs": [],
   "source": [
    "df_test[categorical_columns]=df_test[categorical_columns].fillna(df_test[categorical_columns].mode().iloc[0])"
   ]
  },
  {
   "cell_type": "code",
   "execution_count": 29,
   "id": "20f15fef-3d36-4f1c-bc2b-5bd76db5ebc3",
   "metadata": {},
   "outputs": [
    {
     "name": "stdout",
     "output_type": "stream",
     "text": [
      "                column  missing values\n",
      "0                   Id               0\n",
      "1                OrgId               0\n",
      "2           IncidentId               0\n",
      "3              AlertId               0\n",
      "4            Timestamp               0\n",
      "5           DetectorId               0\n",
      "6           AlertTitle               0\n",
      "7             Category               0\n",
      "8      MitreTechniques               0\n",
      "9        IncidentGrade               0\n",
      "10          EntityType               0\n",
      "11        EvidenceRole               0\n",
      "12            DeviceId               0\n",
      "13              Sha256               0\n",
      "14           IpAddress               0\n",
      "15                 Url               0\n",
      "16          AccountSid               0\n",
      "17          AccountUpn               0\n",
      "18     AccountObjectId               0\n",
      "19         AccountName               0\n",
      "20          DeviceName               0\n",
      "21    NetworkMessageId               0\n",
      "22         RegistryKey               0\n",
      "23   RegistryValueName               0\n",
      "24   RegistryValueData               0\n",
      "25       ApplicationId               0\n",
      "26     ApplicationName               0\n",
      "27  OAuthApplicationId               0\n",
      "28            FileName               0\n",
      "29          FolderPath               0\n",
      "30      ResourceIdName               0\n",
      "31            OSFamily               0\n",
      "32           OSVersion               0\n",
      "33         CountryCode               0\n",
      "34               State               0\n",
      "35                City               0\n"
     ]
    }
   ],
   "source": [
    "missing_df=df_test.isnull().sum().reset_index()\n",
    "missing_df.columns=['column','missing values']\n",
    "print(missing_df)"
   ]
  },
  {
   "cell_type": "code",
   "execution_count": 30,
   "id": "4401979f-584e-45ad-8311-73ad7b3762dd",
   "metadata": {},
   "outputs": [],
   "source": [
    "df_test['Timestamp']=pd.to_datetime(df_test['Timestamp'])\n",
    "df_test['Year']=df_test['Timestamp'].dt.year\n",
    "df_test['Month']=df_test['Timestamp'].dt.month\n",
    "df_test['Day']=df_test['Timestamp'].dt.day\n",
    "df_test['Hour']=df_test['Timestamp'].dt.hour\n",
    "df_test['Minutes']=df_test['Timestamp'].dt.minute\n",
    "df_test['Second']=df_test['Timestamp'].dt.second\n",
    "df_test=df_test.drop(columns=['Timestamp'],axis=1)"
   ]
  },
  {
   "cell_type": "code",
   "execution_count": 31,
   "id": "54575da3-181c-4077-8371-e852c382b284",
   "metadata": {},
   "outputs": [
    {
     "data": {
      "text/plain": [
       "Index(['Category', 'MitreTechniques', 'IncidentGrade', 'EntityType',\n",
       "       'EvidenceRole'],\n",
       "      dtype='object')"
      ]
     },
     "execution_count": 31,
     "metadata": {},
     "output_type": "execute_result"
    }
   ],
   "source": [
    "categorical_columns=df_test.select_dtypes(include=['object']).columns\n",
    "categorical_columns"
   ]
  },
  {
   "cell_type": "code",
   "execution_count": 32,
   "id": "1a70911e-ff9d-4550-ad42-92e9a304cb87",
   "metadata": {},
   "outputs": [
    {
     "name": "stdout",
     "output_type": "stream",
     "text": [
      "IncidentGrade\n",
      "BenignPositive    1752940\n",
      "TruePositive      1492354\n",
      "FalsePositive      902698\n",
      "Name: count, dtype: int64\n"
     ]
    }
   ],
   "source": [
    "distribution=df_test['IncidentGrade'].value_counts()\n",
    "print(distribution)"
   ]
  },
  {
   "cell_type": "code",
   "execution_count": 33,
   "id": "1e9db6d5-a645-45dd-9f4e-5db42fa790da",
   "metadata": {},
   "outputs": [],
   "source": [
    "import pandas as pd\n",
    "from sklearn.preprocessing import LabelEncoder\n",
    "categorical_columns=[ 'Category', 'MitreTechniques','EntityType', 'EvidenceRole']\n",
    "label_encoders={}\n",
    "for col in categorical_columns:\n",
    "    le=LabelEncoder()\n",
    "    df_test[col]=le.fit_transform(df_test[col])\n",
    "    label_encoders[col]=le\n",
    "\n",
    "le_target=LabelEncoder()\n",
    "df_test['IncidentGrade_encoded']=le_target.fit_transform(df_test['IncidentGrade'])\n",
    "df_test=df_test.drop(columns=['IncidentGrade'],axis=1)"
   ]
  },
  {
   "cell_type": "code",
   "execution_count": 34,
   "id": "951b19f0-c19d-4cc2-8319-87a1269f75a9",
   "metadata": {},
   "outputs": [],
   "source": [
    "X_testing=df_test.drop(columns=['IncidentGrade_encoded'],axis=1)"
   ]
  },
  {
   "cell_type": "code",
   "execution_count": 35,
   "id": "1bb9cde0-d6cd-410d-a237-7393195c7404",
   "metadata": {},
   "outputs": [],
   "source": [
    "y_testing=df_test['IncidentGrade_encoded']"
   ]
  },
  {
   "cell_type": "code",
   "execution_count": 18,
   "id": "54f41a03-06a1-4a0b-b513-88f9f7fdaa63",
   "metadata": {},
   "outputs": [
    {
     "name": "stdout",
     "output_type": "stream",
     "text": [
      "Accuracy: 0.9141750996626802\n",
      "Precision: 0.9167605633444288\n",
      "Recall: 0.9038889796279505\n",
      "f1 score: 0.9095150559855404\n"
     ]
    }
   ],
   "source": [
    "import joblib\n",
    "from sklearn.metrics import accuracy_score,precision_score,recall_score,f1_score\n",
    "rf_model=joblib.load('random_forest_classifier_model.pkl')\n",
    "y_testing_predict=rf_model.predict(X_testing)\n",
    "print(f\"Accuracy: {accuracy_score(y_testing,y_testing_predict)}\")\n",
    "print(f\"Precision: {precision_score(y_testing,y_testing_predict,average='macro')}\")\n",
    "print(f\"Recall: {recall_score(y_testing,y_testing_predict,average='macro')}\")\n",
    "print(f\"f1 score: {f1_score(y_testing,y_testing_predict,average='macro')}\")"
   ]
  },
  {
   "cell_type": "code",
   "execution_count": null,
   "id": "ec028a9f-30dc-431d-a0b7-84ea1045f3e3",
   "metadata": {},
   "outputs": [],
   "source": []
  },
  {
   "cell_type": "code",
   "execution_count": 37,
   "id": "6d797940-839b-4b93-a95e-a26fc316621b",
   "metadata": {},
   "outputs": [
    {
     "name": "stdout",
     "output_type": "stream",
     "text": [
      "Accuracy: 0.9129752419966094\n",
      "Precision: 0.9136081834556027\n",
      "Recall: 0.9037696438280428\n",
      "f1 score: 0.9081954518187171\n"
     ]
    }
   ],
   "source": [
    "import joblib\n",
    "from sklearn.metrics import accuracy_score,precision_score,recall_score,f1_score\n",
    "rf_model=joblib.load('oversampled_random_forest_classifier_model.pkl')\n",
    "y_testing_predict=rf_model.predict(X_testing)\n",
    "print(f\"Accuracy: {accuracy_score(y_testing,y_testing_predict)}\")\n",
    "print(f\"Precision: {precision_score(y_testing,y_testing_predict,average='macro')}\")\n",
    "print(f\"Recall: {recall_score(y_testing,y_testing_predict,average='macro')}\")\n",
    "print(f\"f1 score: {f1_score(y_testing,y_testing_predict,average='macro')}\")"
   ]
  },
  {
   "cell_type": "code",
   "execution_count": null,
   "id": "0554df80-39b2-4949-be18-d8421c3116bf",
   "metadata": {},
   "outputs": [],
   "source": []
  },
  {
   "cell_type": "code",
   "execution_count": null,
   "id": "db0f1815-d64f-4c92-a142-a5fee9ac70ac",
   "metadata": {},
   "outputs": [],
   "source": []
  }
 ],
 "metadata": {
  "kernelspec": {
   "display_name": "Python 3 (ipykernel)",
   "language": "python",
   "name": "python3"
  },
  "language_info": {
   "codemirror_mode": {
    "name": "ipython",
    "version": 3
   },
   "file_extension": ".py",
   "mimetype": "text/x-python",
   "name": "python",
   "nbconvert_exporter": "python",
   "pygments_lexer": "ipython3",
   "version": "3.12.3"
  }
 },
 "nbformat": 4,
 "nbformat_minor": 5
}
